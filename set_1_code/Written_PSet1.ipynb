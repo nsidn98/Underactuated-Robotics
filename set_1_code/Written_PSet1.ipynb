{
 "cells": [
  {
   "cell_type": "code",
   "execution_count": 1,
   "metadata": {},
   "outputs": [],
   "source": [
    "import numpy as np\n",
    "import matplotlib.pyplot as plt"
   ]
  },
  {
   "cell_type": "markdown",
   "metadata": {},
   "source": [
    "# Question 1.2\n",
    "## Bicycle\n",
    "3. "
   ]
  },
  {
   "cell_type": "markdown",
   "metadata": {},
   "source": [
    "# Question 1.3\n",
    "## Simple Pendulum\n",
    "\n",
    "$mr^2\\ddot \\theta = u - mgr\\sin\\theta$\n",
    "\n",
    "1. For any arbitrary $\\ddot \\theta$ we have $u$ sufficent to provide for it. Thus the system is fully actuated.\n",
    "\n",
    "2. \n"
   ]
  },
  {
   "cell_type": "markdown",
   "metadata": {},
   "source": [
    "# Question 2\n",
    "## Nonlinear Dynamics\n",
    "$\\dot x=x^3+2x^2-5x-6$"
   ]
  },
  {
   "cell_type": "code",
   "execution_count": 6,
   "metadata": {},
   "outputs": [],
   "source": [
    "x = np.linspace(-4,4,1000)\n",
    "x_dot = x**3 + 2*x**2 - 5*x - 6"
   ]
  },
  {
   "cell_type": "code",
   "execution_count": 10,
   "metadata": {},
   "outputs": [
    {
     "data": {
      "image/png": "[encoded data removed]",
      "text/plain": [
       "<matplotlib.figure.Figure at 0x105ed4978>"
      ]
     },
     "metadata": {
      "needs_background": "light"
     },
     "output_type": "display_data"
    }
   ],
   "source": [
    "plt.plot(x,x_dot)\n",
    "plt.grid()\n",
    "plt.title('Phase portrait')\n",
    "plt.xlabel('X')\n",
    "plt.ylabel(\"$\\dot X$\")\n",
    "plt.show()"
   ]
  },
  {
   "cell_type": "markdown",
   "metadata": {},
   "source": [
    "The points x = [-3,-1,2] are the fixed points of the system.\n",
    "\n",
    "The point $x$ = -3 and 2 are unstable fixed points whereas the point $x$ = -1 is a stable fixed point.\n",
    "\n",
    "We get to the above conclusion by drawing the field lines around the fixed points as mentioned in the lectures.\n",
    "\n",
    "The region of attraction for the fixed point around $x$ = -1 is $x \\in (-3,2)$"
   ]
  },
  {
   "cell_type": "code",
   "execution_count": null,
   "metadata": {},
   "outputs": [],
   "source": []
  }
 ],
 "metadata": {
  "kernelspec": {
   "display_name": "Python 3",
   "language": "python",
   "name": "python3"
  },
  "language_info": {
   "codemirror_mode": {
    "name": "ipython",
    "version": 3
   },
   "file_extension": ".py",
   "mimetype": "text/x-python",
   "name": "python",
   "nbconvert_exporter": "python",
   "pygments_lexer": "ipython3",
   "version": "3.6.5"
  }
 },
 "nbformat": 4,
 "nbformat_minor": 2
}
