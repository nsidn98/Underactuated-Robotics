{
 "cells": [
  {
   "cell_type": "code",
   "execution_count": 1,
   "metadata": {},
   "outputs": [],
   "source": [
    "import numpy as np"
   ]
  },
  {
   "cell_type": "code",
   "execution_count": 2,
   "metadata": {},
   "outputs": [
    {
     "name": "stdin",
     "output_type": "stream",
     "text": [
      "Please enter the number of axes:  6\n"
     ]
    },
    {
     "name": "stdout",
     "output_type": "stream",
     "text": [
      "Please enter the Matrix in the form :\n",
      "Please enter all angles in degrees\n",
      "[Theta , d , a , alpha ]\n"
     ]
    }
   ],
   "source": [
    "axes = input('Please enter the number of axes: ')\n",
    "print('Please enter the Matrix in the form :')\n",
    "print('Please enter all angles in degrees')\n",
    "print('[Theta , d , a , alpha ]')\n"
   ]
  },
  {
   "cell_type": "code",
   "execution_count": 3,
   "metadata": {},
   "outputs": [
    {
     "name": "stdin",
     "output_type": "stream",
     "text": [
      "theta_1:  0\n",
      "d_1:  200\n",
      "a_1:  0\n",
      "alpha_1:  90\n",
      "theta_2:  0\n",
      "d_2:  0\n",
      "a_2:  100\n",
      "alpha_2:  0\n",
      "theta_3:  0\n",
      "d_3:  0\n",
      "a_3:  150\n",
      "alpha_3:  0\n",
      "theta_4:  0\n",
      "d_4:  0\n",
      "a_4:  100\n",
      "alpha_4:  -90\n",
      "theta_5:  -90\n",
      "d_5:  0\n",
      "a_5:  0\n",
      "alpha_5:  -90\n",
      "theta_6:  -90\n",
      "d_6:  250\n",
      "a_6:  0\n",
      "alpha_6:  0\n"
     ]
    }
   ],
   "source": [
    "dh=[]\n",
    "# take user input \n",
    "for i in range(int(axes)):\n",
    "    theta = float(input('theta_'+str(i+1)+': '))\n",
    "    theta = float(np.deg2rad(theta))\n",
    "    d = float(input('d_'+str(i+1)+': '))\n",
    "    a = float(input('a_'+str(i+1)+': '))\n",
    "    alpha = float(input('alpha_'+str(i+1)+': '))\n",
    "    alpha = float(np.deg2rad(alpha))\n",
    "    dh.append(np.array([theta,d,a,alpha]))"
   ]
  },
  {
   "cell_type": "code",
   "execution_count": 4,
   "metadata": {},
   "outputs": [],
   "source": [
    "class DH_transform():\n",
    "    '''\n",
    "    Class for all functions related to the DH parameters\n",
    "    '''\n",
    "    def __init__(self,dh):\n",
    "        self.dh = dh\n",
    "        \n",
    "    def link_tf(self):\n",
    "        '''\n",
    "        Returns T(k-1 to k)\n",
    "        '''\n",
    "        dh = self.dh\n",
    "        T = []\n",
    "        for i in range(int(axes)):\n",
    "            T_i = np.zeros((4,4))\n",
    "            theta_k = dh[i][0]\n",
    "            d_k = dh[i][1]\n",
    "            a_k = dh[i][2]\n",
    "            alpha_k = dh[i][3]\n",
    "            # first row\n",
    "            T_i[0][0] = np.cos(theta_k)\n",
    "            T_i[0][1] = -np.cos(alpha_k)*np.sin(theta_k)\n",
    "            T_i[0][2] = np.sin(alpha_k)*np.sin(theta_k)\n",
    "            T_i[0][3] = a_k*np.cos(theta_k)\n",
    "            \n",
    "            # second row\n",
    "            T_i[1][0] = np.sin(theta_k)\n",
    "            T_i[1][1] = np.cos(alpha_k)*np.cos(theta_k)\n",
    "            T_i[1][2] = -np.sin(alpha_k)*np.cos(theta_k)\n",
    "            T_i[1][3] = a_k*np.sin(theta_k)\n",
    "            \n",
    "            # third row\n",
    "            T_i[2][0] = 0\n",
    "            T_i[2][1] = np.sin(alpha_k)\n",
    "            T_i[2][2] = np.cos(alpha_k)\n",
    "            T_i[2][3] = d_k\n",
    "            \n",
    "            # fourth row\n",
    "            T_i[3][0] = 0\n",
    "            T_i[3][1] = 0\n",
    "            T_i[3][2] = 0\n",
    "            T_i[3][3] = 1\n",
    "            \n",
    "            T.append(T_i)\n",
    "        return T\n",
    "        \n",
    "    def inverse_link_tf(self):\n",
    "        '''\n",
    "        Returns T(k to k-1)\n",
    "        '''\n",
    "        dh = self.dh\n",
    "        T = []\n",
    "        for i in range(int(axes)):\n",
    "            T_i = np.zeros((4,4))\n",
    "            theta_k = dh[i][0]\n",
    "            d_k = dh[i][1]\n",
    "            a_k = dh[i][2]\n",
    "            alpha_k = dh[i][3]\n",
    "            # first row\n",
    "            T_i[0][0] = np.cos(theta_k)\n",
    "            T_i[0][1] = np.sin(theta_k)#-np.cos(alpha_k)*np.sin(theta_k)\n",
    "            T_i[0][2] = 0 #np.sin(alpha_k)*np.sin(theta_k)\n",
    "            T_i[0][3] = -a_k#*np.cos(theta_k)\n",
    "            \n",
    "            # second row\n",
    "            T_i[1][0] = -np.cos(alpha_k)*np.sin(theta_k)\n",
    "            T_i[1][1] = np.cos(alpha_k)*np.cos(theta_k)\n",
    "            T_i[1][2] = np.sin(alpha_k)#*np.cos(theta_k)\n",
    "            T_i[1][3] = -d_k*np.sin(alpha_k)\n",
    "            \n",
    "            # third row\n",
    "            T_i[2][0] = np.sin(alpha_k)*np.sin(theta_k)\n",
    "            T_i[2][1] = -np.sin(alpha_k)*np.cos(theta_k)\n",
    "            T_i[2][2] = np.cos(alpha_k)\n",
    "            T_i[2][3] = -d_k*np.cos(alpha_k)\n",
    "            \n",
    "            # fourth row\n",
    "            T_i[3][0] = 0\n",
    "            T_i[3][1] = 0\n",
    "            T_i[3][2] = 0\n",
    "            T_i[3][3] = 1\n",
    "            \n",
    "            T.append(T_i)\n",
    "        return T\n",
    "        \n",
    "        \n",
    "    def tool_base(self,T):\n",
    "        '''\n",
    "        Takes in all the transformation matrices from base to tip \n",
    "        and returns the base to tip transformation matrix\n",
    "        '''\n",
    "        T_i = T[0]\n",
    "        for i in range(int(axes)-1):\n",
    "            T_i = np.dot(T_i,T[i+1])\n",
    "        return T_i\n",
    "        \n",
    "    def coords(self,T):\n",
    "        '''\n",
    "        Takes in matrix and splits it \n",
    "        into translation vector and rotation matrix\n",
    "        '''\n",
    "        pos_vec = T[0:3,-1]\n",
    "        theta_vec = T[0:3,0:3]\n",
    "        print('Position vector wrt base:')\n",
    "        print(pos_vec)\n",
    "        print()\n",
    "        print('Orientation(rotation matrix) Vector wrt base:')\n",
    "        print(theta_vec)\n",
    "        "
   ]
  },
  {
   "cell_type": "code",
   "execution_count": 5,
   "metadata": {},
   "outputs": [],
   "source": [
    "DH = DH_transform(dh)"
   ]
  },
  {
   "cell_type": "markdown",
   "metadata": {},
   "source": [
    "The transformation matrix from base to elbow matches with the one calculated in question 2"
   ]
  },
  {
   "cell_type": "code",
   "execution_count": 6,
   "metadata": {},
   "outputs": [
    {
     "name": "stdout",
     "output_type": "stream",
     "text": [
      "Transformation matrix from base to elbow\n",
      "[[  1.00000000e+00   0.00000000e+00   0.00000000e+00   1.00000000e+02]\n",
      " [  0.00000000e+00   6.12323400e-17  -1.00000000e+00   0.00000000e+00]\n",
      " [  0.00000000e+00   1.00000000e+00   6.12323400e-17   2.00000000e+02]\n",
      " [  0.00000000e+00   0.00000000e+00   0.00000000e+00   1.00000000e+00]]\n"
     ]
    }
   ],
   "source": [
    "T=DH.link_tf()\n",
    "print('Transformation matrix from base to elbow')\n",
    "print(T[0]@T[1])"
   ]
  },
  {
   "cell_type": "markdown",
   "metadata": {},
   "source": [
    "All the transformation matrices"
   ]
  },
  {
   "cell_type": "code",
   "execution_count": 14,
   "metadata": {},
   "outputs": [
    {
     "name": "stdout",
     "output_type": "stream",
     "text": [
      "Transformation matrix from link_0 to link_1\n",
      "[[  1.00000000e+00  -0.00000000e+00   0.00000000e+00   0.00000000e+00]\n",
      " [  0.00000000e+00   6.12323400e-17  -1.00000000e+00   0.00000000e+00]\n",
      " [  0.00000000e+00   1.00000000e+00   6.12323400e-17   2.00000000e+02]\n",
      " [  0.00000000e+00   0.00000000e+00   0.00000000e+00   1.00000000e+00]]\n",
      "Transformation matrix from link_1 to link_2\n",
      "[[   1.   -0.    0.  100.]\n",
      " [   0.    1.   -0.    0.]\n",
      " [   0.    0.    1.    0.]\n",
      " [   0.    0.    0.    1.]]\n",
      "Transformation matrix from link_2 to link_3\n",
      "[[   1.   -0.    0.  150.]\n",
      " [   0.    1.   -0.    0.]\n",
      " [   0.    0.    1.    0.]\n",
      " [   0.    0.    0.    1.]]\n",
      "Transformation matrix from link_3 to link_4\n",
      "[[  1.00000000e+00  -0.00000000e+00  -0.00000000e+00   1.00000000e+02]\n",
      " [  0.00000000e+00   6.12323400e-17   1.00000000e+00   0.00000000e+00]\n",
      " [  0.00000000e+00  -1.00000000e+00   6.12323400e-17   0.00000000e+00]\n",
      " [  0.00000000e+00   0.00000000e+00   0.00000000e+00   1.00000000e+00]]\n",
      "Transformation matrix from link_4 to link_5\n",
      "[[  6.12323400e-17   6.12323400e-17   1.00000000e+00   0.00000000e+00]\n",
      " [ -1.00000000e+00   3.74939946e-33   6.12323400e-17  -0.00000000e+00]\n",
      " [  0.00000000e+00  -1.00000000e+00   6.12323400e-17   0.00000000e+00]\n",
      " [  0.00000000e+00   0.00000000e+00   0.00000000e+00   1.00000000e+00]]\n",
      "Transformation matrix from link_5 to link_6\n",
      "[[  6.12323400e-17   1.00000000e+00  -0.00000000e+00   0.00000000e+00]\n",
      " [ -1.00000000e+00   6.12323400e-17  -0.00000000e+00  -0.00000000e+00]\n",
      " [  0.00000000e+00   0.00000000e+00   1.00000000e+00   2.50000000e+02]\n",
      " [  0.00000000e+00   0.00000000e+00   0.00000000e+00   1.00000000e+00]]\n"
     ]
    }
   ],
   "source": [
    "for i in range(len(T)):\n",
    "    print(\"Transformation matrix from link_\"+str(i) +' to link_'+str(i+1))\n",
    "    print(T[i])"
   ]
  },
  {
   "cell_type": "markdown",
   "metadata": {},
   "source": [
    "The cartesian space co-ordinates: position vector and orientation"
   ]
  },
  {
   "cell_type": "code",
   "execution_count": 15,
   "metadata": {},
   "outputs": [
    {
     "name": "stdout",
     "output_type": "stream",
     "text": [
      "Position vector wrt base:\n",
      "[  6.00000000e+02   1.53080850e-14   2.00000000e+02]\n",
      "\n",
      "Orientation(rotation matrix) Vector wrt base:\n",
      "[[ -6.12323400e-17   6.12323400e-17   1.00000000e+00]\n",
      " [ -6.12323400e-17  -1.00000000e+00   6.12323400e-17]\n",
      " [  1.00000000e+00  -6.12323400e-17   6.12323400e-17]]\n"
     ]
    }
   ],
   "source": [
    "tool = DH.tool_base(T)\n",
    "coords_ = DH.coords(tool)"
   ]
  },
  {
   "cell_type": "code",
   "execution_count": null,
   "metadata": {},
   "outputs": [],
   "source": []
  }
 ],
 "metadata": {
  "kernelspec": {
   "display_name": "Python 3",
   "language": "python",
   "name": "python3"
  },
  "language_info": {
   "codemirror_mode": {
    "name": "ipython",
    "version": 3
   },
   "file_extension": ".py",
   "mimetype": "text/x-python",
   "name": "python",
   "nbconvert_exporter": "python",
   "pygments_lexer": "ipython3",
   "version": "3.6.5"
  }
 },
 "nbformat": 4,
 "nbformat_minor": 2
}
